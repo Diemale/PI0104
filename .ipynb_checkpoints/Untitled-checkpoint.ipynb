{
 "cells": [
  {
   "cell_type": "code",
   "execution_count": null,
   "id": "d5649728",
   "metadata": {},
   "outputs": [],
   "source": [
    "import pandas as pd"
   ]
  },
  {
   "cell_type": "code",
   "execution_count": null,
   "id": "df2ef453",
   "metadata": {},
   "outputs": [],
   "source": [
    "df1= pd.read_csv('Datasets/precios_semana_20200413.csv')"
   ]
  },
  {
   "cell_type": "code",
   "execution_count": null,
   "id": "3fea6576",
   "metadata": {},
   "outputs": [],
   "source": [
    "df1.head(25)"
   ]
  },
  {
   "cell_type": "code",
   "execution_count": null,
   "id": "5b471c39",
   "metadata": {},
   "outputs": [],
   "source": [
    "df1['precio'].max()"
   ]
  },
  {
   "cell_type": "code",
   "execution_count": null,
   "id": "b4676459",
   "metadata": {},
   "outputs": [],
   "source": [
    "df2 = pd.read_csv('Datasets/precios_semana_20200503.csv')"
   ]
  },
  {
   "cell_type": "code",
   "execution_count": null,
   "id": "7241a59b",
   "metadata": {},
   "outputs": [],
   "source": [
    "df2.head(25)"
   ]
  },
  {
   "cell_type": "code",
   "execution_count": null,
   "id": "f6369c3a",
   "metadata": {},
   "outputs": [],
   "source": [
    "df3 = pd.read_csv('Datasets/precios_semanas_20200419_20200426.csv')"
   ]
  },
  {
   "cell_type": "code",
   "execution_count": null,
   "id": "f750e525",
   "metadata": {},
   "outputs": [],
   "source": [
    "df3.head(25)"
   ]
  },
  {
   "cell_type": "markdown",
   "id": "a6a208dc",
   "metadata": {},
   "source": [
    "### Chequeo de nulos "
   ]
  },
  {
   "cell_type": "code",
   "execution_count": 1,
   "id": "e45e219c",
   "metadata": {},
   "outputs": [
    {
     "ename": "NameError",
     "evalue": "name 'df1' is not defined",
     "output_type": "error",
     "traceback": [
      "\u001b[1;31m---------------------------------------------------------------------------\u001b[0m",
      "\u001b[1;31mNameError\u001b[0m                                 Traceback (most recent call last)",
      "Input \u001b[1;32mIn [1]\u001b[0m, in \u001b[0;36m<cell line: 1>\u001b[1;34m()\u001b[0m\n\u001b[1;32m----> 1\u001b[0m \u001b[43mdf1\u001b[49m\u001b[38;5;241m.\u001b[39misna()\u001b[38;5;241m.\u001b[39msum()\u001b[38;5;241m.\u001b[39msum()\n",
      "\u001b[1;31mNameError\u001b[0m: name 'df1' is not defined"
     ]
    }
   ],
   "source": [
    "df1.isna().sum().sum()"
   ]
  },
  {
   "cell_type": "code",
   "execution_count": null,
   "id": "6a41d56f",
   "metadata": {},
   "outputs": [],
   "source": [
    "df2.isna().sum().sum()\n"
   ]
  },
  {
   "cell_type": "code",
   "execution_count": null,
   "id": "c496c259",
   "metadata": {},
   "outputs": [],
   "source": [
    "df3.isna().sum().sum()"
   ]
  },
  {
   "cell_type": "code",
   "execution_count": null,
   "id": "02006a77",
   "metadata": {},
   "outputs": [],
   "source": [
    "df3['precio'].isna().sum()"
   ]
  },
  {
   "cell_type": "code",
   "execution_count": null,
   "id": "f4007ab7",
   "metadata": {},
   "outputs": [],
   "source": [
    "dff= df3['precio'].isna()"
   ]
  },
  {
   "cell_type": "code",
   "execution_count": null,
   "id": "4769c7ce",
   "metadata": {},
   "outputs": [],
   "source": [
    "dff.head(20)"
   ]
  },
  {
   "cell_type": "code",
   "execution_count": null,
   "id": "44576fe3",
   "metadata": {},
   "outputs": [],
   "source": []
  },
  {
   "cell_type": "code",
   "execution_count": null,
   "id": "9d08125c",
   "metadata": {},
   "outputs": [],
   "source": []
  },
  {
   "cell_type": "code",
   "execution_count": null,
   "id": "b9dcd988",
   "metadata": {},
   "outputs": [],
   "source": []
  }
 ],
 "metadata": {
  "kernelspec": {
   "display_name": "Python 3 (ipykernel)",
   "language": "python",
   "name": "python3"
  },
  "language_info": {
   "codemirror_mode": {
    "name": "ipython",
    "version": 3
   },
   "file_extension": ".py",
   "mimetype": "text/x-python",
   "name": "python",
   "nbconvert_exporter": "python",
   "pygments_lexer": "ipython3",
   "version": "3.9.12"
  }
 },
 "nbformat": 4,
 "nbformat_minor": 5
}
