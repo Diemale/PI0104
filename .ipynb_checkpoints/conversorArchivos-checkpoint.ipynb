{
 "cells": [
  {
   "cell_type": "markdown",
   "id": "d94ecfd4",
   "metadata": {},
   "source": [
    "## Tratamiento de datos"
   ]
  },
  {
   "cell_type": "code",
   "execution_count": 1,
   "id": "55b684fc",
   "metadata": {},
   "outputs": [],
   "source": [
    "import pandas as pd\n",
    "import json\n",
    "import csv\n"
   ]
  },
  {
   "cell_type": "code",
   "execution_count": null,
   "id": "9b3fc352",
   "metadata": {},
   "outputs": [],
   "source": [
    "df = pd.read_parquet('Datasets/producto.parquet')\n",
    "df.to_csv('Datasets/producto.csv', index=None, sep=',')"
   ]
  },
  {
   "cell_type": "code",
   "execution_count": 8,
   "id": "b4943f06",
   "metadata": {},
   "outputs": [],
   "source": [
    "df = pd.read_csv(r'Datasets\\precios_semana_20200518.txt')\n",
    "df.to_csv(r'Datasets\\precios_semana_20200518.csv', index=None)\n",
    "\n",
    "#En este caso no pude convertir el separador del header (quedan pipes), así que lo voy a reemplazar con Notepad++"
   ]
  },
  {
   "cell_type": "code",
   "execution_count": null,
   "id": "4f6e13dc",
   "metadata": {},
   "outputs": [],
   "source": [
    "df = pd.read_json(r'Datasets\\precios_semana_20200503.json', lines=False)\n",
    "df.to_csv(r'Datasets\\precios_semana_20200503.csv', index=None)"
   ]
  },
  {
   "cell_type": "code",
   "execution_count": null,
   "id": "586eb281",
   "metadata": {},
   "outputs": [],
   "source": [
    "df = pd.DataFrame(pd.read_excel('Datasets/precios_semanas_20200419_20200426.xlsx'))\n",
    "df.to_csv('Datasets/precios_semanas_20200419_20200426.csv')"
   ]
  },
  {
   "cell_type": "code",
   "execution_count": null,
   "id": "c6dfeaac",
   "metadata": {},
   "outputs": [],
   "source": []
  }
 ],
 "metadata": {
  "kernelspec": {
   "display_name": "Python 3 (ipykernel)",
   "language": "python",
   "name": "python3"
  },
  "language_info": {
   "codemirror_mode": {
    "name": "ipython",
    "version": 3
   },
   "file_extension": ".py",
   "mimetype": "text/x-python",
   "name": "python",
   "nbconvert_exporter": "python",
   "pygments_lexer": "ipython3",
   "version": "3.9.12"
  }
 },
 "nbformat": 4,
 "nbformat_minor": 5
}
